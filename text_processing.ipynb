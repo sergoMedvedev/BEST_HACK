{
  "nbformat": 4,
  "nbformat_minor": 0,
  "metadata": {
    "colab": {
      "provenance": [],
      "include_colab_link": true
    },
    "kernelspec": {
      "name": "python3",
      "display_name": "Python 3"
    },
    "language_info": {
      "name": "python"
    }
  },
  "cells": [
    {
      "cell_type": "markdown",
      "metadata": {
        "id": "view-in-github",
        "colab_type": "text"
      },
      "source": [
        "<a href=\"https://colab.research.google.com/github/sergoMedvedev/BEST_HACK/blob/main/text_processing.ipynb\" target=\"_parent\"><img src=\"https://colab.research.google.com/assets/colab-badge.svg\" alt=\"Open In Colab\"/></a>"
      ]
    },
    {
      "cell_type": "markdown",
      "source": [
        "Об используемых инструментах:\n",
        "\n",
        "TF IDF https://scikit-learn.org/stable/modules/generated/sklearn.feature_extraction.text.TfidfTransformer.html#sklearn.feature_extraction.text.TfidfTransformer\n",
        "\n",
        "DBSCAN https://scikit-learn.org/stable/auto_examples/cluster/plot_dbscan.html#sphx-glr-auto-examples-cluster-plot-dbscan-\n",
        "\n",
        "KMeans https://scikit-learn.org/stable/modules/generated/sklearn.cluster.KMeans.html"
      ],
      "metadata": {
        "id": "rr4D1eNavR_Y"
      }
    },
    {
      "cell_type": "code",
      "source": [
        "min_samples = 25\n",
        "n_clusters = 6"
      ],
      "metadata": {
        "id": "IJ4sIlaC1R7P"
      },
      "execution_count": null,
      "outputs": []
    },
    {
      "cell_type": "code",
      "execution_count": null,
      "metadata": {
        "id": "tMwbrUSaYoPc"
      },
      "outputs": [],
      "source": [
        "import pandas as pd\n",
        "from nltk import download\n",
        "from nltk.stem import SnowballStemmer\n",
        "from nltk.corpus import stopwords\n",
        "import re\n",
        "import numpy as np\n",
        "from transformers import pipeline, AutoTokenizer\n",
        "from sklearn.feature_extraction.text import TfidfVectorizer\n",
        "from sklearn.cluster import DBSCAN, KMeans, SpectralClustering\n",
        "from matplotlib import pyplot as plt"
      ]
    },
    {
      "cell_type": "markdown",
      "source": [
        "Prepare data and libraries"
      ],
      "metadata": {
        "id": "FBz8_vgzZRZA"
      }
    },
    {
      "cell_type": "code",
      "source": [
        "df = pd.read_json(\"drive/MyDrive/dataset_hack.json\")\n",
        "stemmer = SnowballStemmer(\"russian\")\n",
        "download('stopwords')\n",
        "stopwords = stopwords.words(\"russian\") + stopwords.words(\"english\") + [\"Привет!\", \"привет\"]\n",
        "tokenizer = AutoTokenizer.from_pretrained('distilroberta-base')"
      ],
      "metadata": {
        "colab": {
          "base_uri": "https://localhost:8080/"
        },
        "id": "U9vLcnFtZO3U",
        "outputId": "07dc3ec1-759a-43e6-cd17-f69402ba6d8a"
      },
      "execution_count": null,
      "outputs": [
        {
          "output_type": "stream",
          "name": "stderr",
          "text": [
            "[nltk_data] Downloading package stopwords to /root/nltk_data...\n",
            "[nltk_data]   Package stopwords is already up-to-date!\n"
          ]
        }
      ]
    },
    {
      "cell_type": "code",
      "source": [
        "df.head()"
      ],
      "metadata": {
        "colab": {
          "base_uri": "https://localhost:8080/",
          "height": 501
        },
        "id": "GLogpJ5Zw9ay",
        "outputId": "2e59debb-6650-4c8d-9daa-f4c03182db66"
      },
      "execution_count": null,
      "outputs": [
        {
          "output_type": "execute_result",
          "data": {
            "text/plain": [
              "       id                                            message  user_id  \\\n",
              "0  146090  Привет! Покупателю 473905 не возвращаются день...   261636   \n",
              "1  146099  Привет! Покупателю 310597 не возвращаются день...   205592   \n",
              "2  146104  Добрый день, в профиле 528509 не отображается ...   178096   \n",
              "3  146111  Привет! У клиента 804993 несколько вопросов ка...   255493   \n",
              "4  146118  Привет! У клиента 746656 несколько вопросов ка...   660691   \n",
              "\n",
              "   channel_id               create_at               update_at  \\\n",
              "0      897391 2023-08-29 22:03:17.662 2023-08-29 22:03:17.662   \n",
              "1      347308 2023-08-29 23:52:18.227 2023-08-29 23:52:18.227   \n",
              "2      250509 2023-08-30 01:00:56.713 2023-08-30 01:00:56.713   \n",
              "3       69518 2023-08-30 02:29:30.042 2023-08-30 02:29:30.042   \n",
              "4       52200 2023-08-30 04:15:40.920 2023-08-30 04:15:40.920   \n",
              "\n",
              "                    root_id  edit_at  delete_at  is_pinned original_id  \n",
              "0                      None        0          0      False              \n",
              "1                      None        0          0      False              \n",
              "2                      None        0          0      False              \n",
              "3                      None        0          0      False              \n",
              "4  dsyhsescphovx9o0jktmy0zt        0          0      False              "
            ],
            "text/html": [
              "\n",
              "  <div id=\"df-433e8fca-2d1e-471b-a632-e8f4fdb593e9\" class=\"colab-df-container\">\n",
              "    <div>\n",
              "<style scoped>\n",
              "    .dataframe tbody tr th:only-of-type {\n",
              "        vertical-align: middle;\n",
              "    }\n",
              "\n",
              "    .dataframe tbody tr th {\n",
              "        vertical-align: top;\n",
              "    }\n",
              "\n",
              "    .dataframe thead th {\n",
              "        text-align: right;\n",
              "    }\n",
              "</style>\n",
              "<table border=\"1\" class=\"dataframe\">\n",
              "  <thead>\n",
              "    <tr style=\"text-align: right;\">\n",
              "      <th></th>\n",
              "      <th>id</th>\n",
              "      <th>message</th>\n",
              "      <th>user_id</th>\n",
              "      <th>channel_id</th>\n",
              "      <th>create_at</th>\n",
              "      <th>update_at</th>\n",
              "      <th>root_id</th>\n",
              "      <th>edit_at</th>\n",
              "      <th>delete_at</th>\n",
              "      <th>is_pinned</th>\n",
              "      <th>original_id</th>\n",
              "    </tr>\n",
              "  </thead>\n",
              "  <tbody>\n",
              "    <tr>\n",
              "      <th>0</th>\n",
              "      <td>146090</td>\n",
              "      <td>Привет! Покупателю 473905 не возвращаются день...</td>\n",
              "      <td>261636</td>\n",
              "      <td>897391</td>\n",
              "      <td>2023-08-29 22:03:17.662</td>\n",
              "      <td>2023-08-29 22:03:17.662</td>\n",
              "      <td>None</td>\n",
              "      <td>0</td>\n",
              "      <td>0</td>\n",
              "      <td>False</td>\n",
              "      <td></td>\n",
              "    </tr>\n",
              "    <tr>\n",
              "      <th>1</th>\n",
              "      <td>146099</td>\n",
              "      <td>Привет! Покупателю 310597 не возвращаются день...</td>\n",
              "      <td>205592</td>\n",
              "      <td>347308</td>\n",
              "      <td>2023-08-29 23:52:18.227</td>\n",
              "      <td>2023-08-29 23:52:18.227</td>\n",
              "      <td>None</td>\n",
              "      <td>0</td>\n",
              "      <td>0</td>\n",
              "      <td>False</td>\n",
              "      <td></td>\n",
              "    </tr>\n",
              "    <tr>\n",
              "      <th>2</th>\n",
              "      <td>146104</td>\n",
              "      <td>Добрый день, в профиле 528509 не отображается ...</td>\n",
              "      <td>178096</td>\n",
              "      <td>250509</td>\n",
              "      <td>2023-08-30 01:00:56.713</td>\n",
              "      <td>2023-08-30 01:00:56.713</td>\n",
              "      <td>None</td>\n",
              "      <td>0</td>\n",
              "      <td>0</td>\n",
              "      <td>False</td>\n",
              "      <td></td>\n",
              "    </tr>\n",
              "    <tr>\n",
              "      <th>3</th>\n",
              "      <td>146111</td>\n",
              "      <td>Привет! У клиента 804993 несколько вопросов ка...</td>\n",
              "      <td>255493</td>\n",
              "      <td>69518</td>\n",
              "      <td>2023-08-30 02:29:30.042</td>\n",
              "      <td>2023-08-30 02:29:30.042</td>\n",
              "      <td>None</td>\n",
              "      <td>0</td>\n",
              "      <td>0</td>\n",
              "      <td>False</td>\n",
              "      <td></td>\n",
              "    </tr>\n",
              "    <tr>\n",
              "      <th>4</th>\n",
              "      <td>146118</td>\n",
              "      <td>Привет! У клиента 746656 несколько вопросов ка...</td>\n",
              "      <td>660691</td>\n",
              "      <td>52200</td>\n",
              "      <td>2023-08-30 04:15:40.920</td>\n",
              "      <td>2023-08-30 04:15:40.920</td>\n",
              "      <td>dsyhsescphovx9o0jktmy0zt</td>\n",
              "      <td>0</td>\n",
              "      <td>0</td>\n",
              "      <td>False</td>\n",
              "      <td></td>\n",
              "    </tr>\n",
              "  </tbody>\n",
              "</table>\n",
              "</div>\n",
              "    <div class=\"colab-df-buttons\">\n",
              "\n",
              "  <div class=\"colab-df-container\">\n",
              "    <button class=\"colab-df-convert\" onclick=\"convertToInteractive('df-433e8fca-2d1e-471b-a632-e8f4fdb593e9')\"\n",
              "            title=\"Convert this dataframe to an interactive table.\"\n",
              "            style=\"display:none;\">\n",
              "\n",
              "  <svg xmlns=\"http://www.w3.org/2000/svg\" height=\"24px\" viewBox=\"0 -960 960 960\">\n",
              "    <path d=\"M120-120v-720h720v720H120Zm60-500h600v-160H180v160Zm220 220h160v-160H400v160Zm0 220h160v-160H400v160ZM180-400h160v-160H180v160Zm440 0h160v-160H620v160ZM180-180h160v-160H180v160Zm440 0h160v-160H620v160Z\"/>\n",
              "  </svg>\n",
              "    </button>\n",
              "\n",
              "  <style>\n",
              "    .colab-df-container {\n",
              "      display:flex;\n",
              "      gap: 12px;\n",
              "    }\n",
              "\n",
              "    .colab-df-convert {\n",
              "      background-color: #E8F0FE;\n",
              "      border: none;\n",
              "      border-radius: 50%;\n",
              "      cursor: pointer;\n",
              "      display: none;\n",
              "      fill: #1967D2;\n",
              "      height: 32px;\n",
              "      padding: 0 0 0 0;\n",
              "      width: 32px;\n",
              "    }\n",
              "\n",
              "    .colab-df-convert:hover {\n",
              "      background-color: #E2EBFA;\n",
              "      box-shadow: 0px 1px 2px rgba(60, 64, 67, 0.3), 0px 1px 3px 1px rgba(60, 64, 67, 0.15);\n",
              "      fill: #174EA6;\n",
              "    }\n",
              "\n",
              "    .colab-df-buttons div {\n",
              "      margin-bottom: 4px;\n",
              "    }\n",
              "\n",
              "    [theme=dark] .colab-df-convert {\n",
              "      background-color: #3B4455;\n",
              "      fill: #D2E3FC;\n",
              "    }\n",
              "\n",
              "    [theme=dark] .colab-df-convert:hover {\n",
              "      background-color: #434B5C;\n",
              "      box-shadow: 0px 1px 3px 1px rgba(0, 0, 0, 0.15);\n",
              "      filter: drop-shadow(0px 1px 2px rgba(0, 0, 0, 0.3));\n",
              "      fill: #FFFFFF;\n",
              "    }\n",
              "  </style>\n",
              "\n",
              "    <script>\n",
              "      const buttonEl =\n",
              "        document.querySelector('#df-433e8fca-2d1e-471b-a632-e8f4fdb593e9 button.colab-df-convert');\n",
              "      buttonEl.style.display =\n",
              "        google.colab.kernel.accessAllowed ? 'block' : 'none';\n",
              "\n",
              "      async function convertToInteractive(key) {\n",
              "        const element = document.querySelector('#df-433e8fca-2d1e-471b-a632-e8f4fdb593e9');\n",
              "        const dataTable =\n",
              "          await google.colab.kernel.invokeFunction('convertToInteractive',\n",
              "                                                    [key], {});\n",
              "        if (!dataTable) return;\n",
              "\n",
              "        const docLinkHtml = 'Like what you see? Visit the ' +\n",
              "          '<a target=\"_blank\" href=https://colab.research.google.com/notebooks/data_table.ipynb>data table notebook</a>'\n",
              "          + ' to learn more about interactive tables.';\n",
              "        element.innerHTML = '';\n",
              "        dataTable['output_type'] = 'display_data';\n",
              "        await google.colab.output.renderOutput(dataTable, element);\n",
              "        const docLink = document.createElement('div');\n",
              "        docLink.innerHTML = docLinkHtml;\n",
              "        element.appendChild(docLink);\n",
              "      }\n",
              "    </script>\n",
              "  </div>\n",
              "\n",
              "\n",
              "<div id=\"df-fac81167-c368-4d5a-a5f9-a37801cfe1f9\">\n",
              "  <button class=\"colab-df-quickchart\" onclick=\"quickchart('df-fac81167-c368-4d5a-a5f9-a37801cfe1f9')\"\n",
              "            title=\"Suggest charts\"\n",
              "            style=\"display:none;\">\n",
              "\n",
              "<svg xmlns=\"http://www.w3.org/2000/svg\" height=\"24px\"viewBox=\"0 0 24 24\"\n",
              "     width=\"24px\">\n",
              "    <g>\n",
              "        <path d=\"M19 3H5c-1.1 0-2 .9-2 2v14c0 1.1.9 2 2 2h14c1.1 0 2-.9 2-2V5c0-1.1-.9-2-2-2zM9 17H7v-7h2v7zm4 0h-2V7h2v10zm4 0h-2v-4h2v4z\"/>\n",
              "    </g>\n",
              "</svg>\n",
              "  </button>\n",
              "\n",
              "<style>\n",
              "  .colab-df-quickchart {\n",
              "      --bg-color: #E8F0FE;\n",
              "      --fill-color: #1967D2;\n",
              "      --hover-bg-color: #E2EBFA;\n",
              "      --hover-fill-color: #174EA6;\n",
              "      --disabled-fill-color: #AAA;\n",
              "      --disabled-bg-color: #DDD;\n",
              "  }\n",
              "\n",
              "  [theme=dark] .colab-df-quickchart {\n",
              "      --bg-color: #3B4455;\n",
              "      --fill-color: #D2E3FC;\n",
              "      --hover-bg-color: #434B5C;\n",
              "      --hover-fill-color: #FFFFFF;\n",
              "      --disabled-bg-color: #3B4455;\n",
              "      --disabled-fill-color: #666;\n",
              "  }\n",
              "\n",
              "  .colab-df-quickchart {\n",
              "    background-color: var(--bg-color);\n",
              "    border: none;\n",
              "    border-radius: 50%;\n",
              "    cursor: pointer;\n",
              "    display: none;\n",
              "    fill: var(--fill-color);\n",
              "    height: 32px;\n",
              "    padding: 0;\n",
              "    width: 32px;\n",
              "  }\n",
              "\n",
              "  .colab-df-quickchart:hover {\n",
              "    background-color: var(--hover-bg-color);\n",
              "    box-shadow: 0 1px 2px rgba(60, 64, 67, 0.3), 0 1px 3px 1px rgba(60, 64, 67, 0.15);\n",
              "    fill: var(--button-hover-fill-color);\n",
              "  }\n",
              "\n",
              "  .colab-df-quickchart-complete:disabled,\n",
              "  .colab-df-quickchart-complete:disabled:hover {\n",
              "    background-color: var(--disabled-bg-color);\n",
              "    fill: var(--disabled-fill-color);\n",
              "    box-shadow: none;\n",
              "  }\n",
              "\n",
              "  .colab-df-spinner {\n",
              "    border: 2px solid var(--fill-color);\n",
              "    border-color: transparent;\n",
              "    border-bottom-color: var(--fill-color);\n",
              "    animation:\n",
              "      spin 1s steps(1) infinite;\n",
              "  }\n",
              "\n",
              "  @keyframes spin {\n",
              "    0% {\n",
              "      border-color: transparent;\n",
              "      border-bottom-color: var(--fill-color);\n",
              "      border-left-color: var(--fill-color);\n",
              "    }\n",
              "    20% {\n",
              "      border-color: transparent;\n",
              "      border-left-color: var(--fill-color);\n",
              "      border-top-color: var(--fill-color);\n",
              "    }\n",
              "    30% {\n",
              "      border-color: transparent;\n",
              "      border-left-color: var(--fill-color);\n",
              "      border-top-color: var(--fill-color);\n",
              "      border-right-color: var(--fill-color);\n",
              "    }\n",
              "    40% {\n",
              "      border-color: transparent;\n",
              "      border-right-color: var(--fill-color);\n",
              "      border-top-color: var(--fill-color);\n",
              "    }\n",
              "    60% {\n",
              "      border-color: transparent;\n",
              "      border-right-color: var(--fill-color);\n",
              "    }\n",
              "    80% {\n",
              "      border-color: transparent;\n",
              "      border-right-color: var(--fill-color);\n",
              "      border-bottom-color: var(--fill-color);\n",
              "    }\n",
              "    90% {\n",
              "      border-color: transparent;\n",
              "      border-bottom-color: var(--fill-color);\n",
              "    }\n",
              "  }\n",
              "</style>\n",
              "\n",
              "  <script>\n",
              "    async function quickchart(key) {\n",
              "      const quickchartButtonEl =\n",
              "        document.querySelector('#' + key + ' button');\n",
              "      quickchartButtonEl.disabled = true;  // To prevent multiple clicks.\n",
              "      quickchartButtonEl.classList.add('colab-df-spinner');\n",
              "      try {\n",
              "        const charts = await google.colab.kernel.invokeFunction(\n",
              "            'suggestCharts', [key], {});\n",
              "      } catch (error) {\n",
              "        console.error('Error during call to suggestCharts:', error);\n",
              "      }\n",
              "      quickchartButtonEl.classList.remove('colab-df-spinner');\n",
              "      quickchartButtonEl.classList.add('colab-df-quickchart-complete');\n",
              "    }\n",
              "    (() => {\n",
              "      let quickchartButtonEl =\n",
              "        document.querySelector('#df-fac81167-c368-4d5a-a5f9-a37801cfe1f9 button');\n",
              "      quickchartButtonEl.style.display =\n",
              "        google.colab.kernel.accessAllowed ? 'block' : 'none';\n",
              "    })();\n",
              "  </script>\n",
              "</div>\n",
              "\n",
              "    </div>\n",
              "  </div>\n"
            ],
            "application/vnd.google.colaboratory.intrinsic+json": {
              "type": "dataframe",
              "variable_name": "df",
              "summary": "{\n  \"name\": \"df\",\n  \"rows\": 5000,\n  \"fields\": [\n    {\n      \"column\": \"id\",\n      \"properties\": {\n        \"dtype\": \"number\",\n        \"std\": 7928,\n        \"min\": 146090,\n        \"max\": 173611,\n        \"num_unique_values\": 5000,\n        \"samples\": [\n          154541,\n          160412,\n          160783\n        ],\n        \"semantic_type\": \"\",\n        \"description\": \"\"\n      }\n    },\n    {\n      \"column\": \"message\",\n      \"properties\": {\n        \"dtype\": \"string\",\n        \"num_unique_values\": 4272,\n        \"samples\": [\n          \"\\u041f\\u0440\\u0438\\u0432\\u0435\\u0442! \\u041f\\u043e \\u0437\\u0430\\u043a\\u0430\\u0437\\u0443 \\u043a\\u0440\\u043e\\u0441\\u0441-\\u0434\\u043e\\u0441\\u0442\\u0430\\u0432\\u043a\\u0438 \\u2116360557, \\u043d\\u0435\\u0442 \\u0432\\u043e\\u0437\\u0432\\u0440\\u0430\\u0442\\u043d\\u043e\\u0433\\u043e \\u0442\\u0440\\u0435\\u043a-\\u043d\\u043e\\u043c\\u0435\\u0440\\u0430. EXMAIL \\u0441\\u043e\\u043e\\u0431\\u0449\\u0438\\u043b\\u0438, \\u0447\\u0442\\u043e \\u0443\\u0436\\u0435 \\u043f\\u0435\\u0440\\u0435\\u0434\\u0430\\u043b\\u0438 \\u0437\\u0430\\u043a\\u0430\\u0437 \\u0432 \\u0421\\u0414 \\u043f\\u0440\\u043e\\u0434\\u0430\\u0432\\u0446\\u0430 \\u0434\\u043b\\u044f \\u0434\\u0430\\u043b\\u044c\\u043d\\u0435\\u0439\\u0448\\u0435\\u0433\\u043e \\u0432\\u043e\\u0437\\u0432\\u0440\\u0430\\u0442\\u0430. \\u041f\\u043e\\u043c\\u043e\\u0433\\u0438\\u0442\\u0435, \\u043f\\u043e\\u0436\\u0430\\u043b\\u0443\\u0439\\u0441\\u0442\\u0430, \\u0440\\u0430\\u0437\\u043e\\u0431\\u0440\\u0430\\u0442\\u044c\\u0441\\u044f \\u0438 \\u0432\\u0435\\u0440\\u043d\\u0443\\u0442\\u044c \\u0437\\u0430\\u043a\\u0430\\u0437 \\u043f\\u0440\\u043e\\u0434\\u0430\\u0432\\u0446\\u0443.\",\n          \"\\u041f\\u043e\\u043a\\u0443\\u043f\\u0430\\u0442\\u0435\\u043b\\u044c 795487 \\u043e\\u0442\\u043a\\u0430\\u0437\\u0430\\u043b\\u0441\\u044f \\u043e\\u0442 \\u0442\\u043e\\u0432\\u0430\\u0440\\u0430, \\u043d\\u043e \\u0434\\u0435\\u043d\\u044c\\u0433\\u0438 \\u043d\\u0435 \\u0432\\u0435\\u0440\\u043d\\u0443\\u043b\\u0438\\u0441\\u044c. \\u0412 \\u0431\\u0438\\u043b\\u043b\\u0438\\u043d\\u0433\\u0435 \\u0441\\u0442\\u0430\\u0442\\u0443\\u0441 \\u0437\\u0430\\u043a\\u0430\\u0437\\u0430 \\u043d\\u0435 lost. \\u041f\\u043e\\u043c\\u043e\\u0433\\u0438\\u0442\\u0435, \\u043f\\u043e\\u0436\\u0430\\u043b\\u0443\\u0439\\u0441\\u0442\\u0430, \\u0432\\u0435\\u0440\\u043d\\u0443\\u0442\\u044c \\u0434\\u0435\\u043d\\u044c\\u0433\\u0438 \\u043f\\u043e\\u043b\\u044c\\u0437\\u043e\\u0432\\u0430\\u0442\\u0435\\u043b\\u044e.\",\n          \"\\u041f\\u043e\\u043a\\u0443\\u043f\\u0430\\u0442\\u0435\\u043b\\u044c 835884 \\u043e\\u0442\\u043a\\u0430\\u0437\\u0430\\u043b\\u0441\\u044f \\u043e\\u0442 \\u0442\\u043e\\u0432\\u0430\\u0440\\u0430, \\u043d\\u043e \\u0434\\u0435\\u043d\\u044c\\u0433\\u0438 \\u043d\\u0435 \\u0432\\u0435\\u0440\\u043d\\u0443\\u043b\\u0438\\u0441\\u044c. \\u0412 \\u0431\\u0438\\u043b\\u043b\\u0438\\u043d\\u0433\\u0435 \\u0441\\u0442\\u0430\\u0442\\u0443\\u0441 \\u0437\\u0430\\u043a\\u0430\\u0437\\u0430 \\u043d\\u0435 submitted. \\u041f\\u043e\\u043c\\u043e\\u0433\\u0438\\u0442\\u0435, \\u043f\\u043e\\u0436\\u0430\\u043b\\u0443\\u0439\\u0441\\u0442\\u0430, \\u0432\\u0435\\u0440\\u043d\\u0443\\u0442\\u044c \\u0434\\u0435\\u043d\\u044c\\u0433\\u0438 \\u043f\\u043e\\u043b\\u044c\\u0437\\u043e\\u0432\\u0430\\u0442\\u0435\\u043b\\u044e.\"\n        ],\n        \"semantic_type\": \"\",\n        \"description\": \"\"\n      }\n    },\n    {\n      \"column\": \"user_id\",\n      \"properties\": {\n        \"dtype\": \"number\",\n        \"std\": 288169,\n        \"min\": 202,\n        \"max\": 999952,\n        \"num_unique_values\": 4991,\n        \"samples\": [\n          776425,\n          931651,\n          673439\n        ],\n        \"semantic_type\": \"\",\n        \"description\": \"\"\n      }\n    },\n    {\n      \"column\": \"channel_id\",\n      \"properties\": {\n        \"dtype\": \"number\",\n        \"std\": 290697,\n        \"min\": 107,\n        \"max\": 999960,\n        \"num_unique_values\": 4989,\n        \"samples\": [\n          46926,\n          585190,\n          847144\n        ],\n        \"semantic_type\": \"\",\n        \"description\": \"\"\n      }\n    },\n    {\n      \"column\": \"create_at\",\n      \"properties\": {\n        \"dtype\": \"date\",\n        \"min\": \"2023-08-29 22:03:17.662000\",\n        \"max\": \"2024-03-19 04:45:35.859000\",\n        \"num_unique_values\": 5000,\n        \"samples\": [\n          \"2023-10-29 11:34:39.931000\",\n          \"2023-12-13 08:31:38.940000\",\n          \"2023-12-16 03:56:47.108000\"\n        ],\n        \"semantic_type\": \"\",\n        \"description\": \"\"\n      }\n    },\n    {\n      \"column\": \"update_at\",\n      \"properties\": {\n        \"dtype\": \"date\",\n        \"min\": \"2023-08-29 22:03:17.662000\",\n        \"max\": \"2024-03-19 04:45:35.859000\",\n        \"num_unique_values\": 5000,\n        \"samples\": [\n          \"2023-10-29 11:34:39.931000\",\n          \"2023-12-13 08:31:38.940000\",\n          \"2023-12-16 03:56:47.108000\"\n        ],\n        \"semantic_type\": \"\",\n        \"description\": \"\"\n      }\n    },\n    {\n      \"column\": \"root_id\",\n      \"properties\": {\n        \"dtype\": \"category\",\n        \"num_unique_values\": 2476,\n        \"samples\": [\n          \"6ttx7dfygaqx7t88jgk7exlu\",\n          \"bdhlvejytwxf50bojv7pcx69\",\n          \"67auleojjipjblxdpedv8cvh\"\n        ],\n        \"semantic_type\": \"\",\n        \"description\": \"\"\n      }\n    },\n    {\n      \"column\": \"edit_at\",\n      \"properties\": {\n        \"dtype\": \"number\",\n        \"std\": 0,\n        \"min\": 0,\n        \"max\": 0,\n        \"num_unique_values\": 1,\n        \"samples\": [\n          0\n        ],\n        \"semantic_type\": \"\",\n        \"description\": \"\"\n      }\n    },\n    {\n      \"column\": \"delete_at\",\n      \"properties\": {\n        \"dtype\": \"number\",\n        \"std\": 0,\n        \"min\": 0,\n        \"max\": 0,\n        \"num_unique_values\": 1,\n        \"samples\": [\n          0\n        ],\n        \"semantic_type\": \"\",\n        \"description\": \"\"\n      }\n    },\n    {\n      \"column\": \"is_pinned\",\n      \"properties\": {\n        \"dtype\": \"boolean\",\n        \"num_unique_values\": 1,\n        \"samples\": [\n          false\n        ],\n        \"semantic_type\": \"\",\n        \"description\": \"\"\n      }\n    },\n    {\n      \"column\": \"original_id\",\n      \"properties\": {\n        \"dtype\": \"object\",\n        \"num_unique_values\": 1,\n        \"samples\": [\n          \"\"\n        ],\n        \"semantic_type\": \"\",\n        \"description\": \"\"\n      }\n    }\n  ]\n}"
            }
          },
          "metadata": {},
          "execution_count": 941
        }
      ]
    },
    {
      "cell_type": "code",
      "source": [
        "messages = df[\"message\"]"
      ],
      "metadata": {
        "id": "72diOsHpZV-K"
      },
      "execution_count": null,
      "outputs": []
    },
    {
      "cell_type": "code",
      "source": [
        "messages"
      ],
      "metadata": {
        "colab": {
          "base_uri": "https://localhost:8080/"
        },
        "id": "K7uaRfsHb2Kp",
        "outputId": "46832649-bb12-48dd-80f3-4b054c55c437"
      },
      "execution_count": null,
      "outputs": [
        {
          "output_type": "execute_result",
          "data": {
            "text/plain": [
              "0       Привет! Покупателю 473905 не возвращаются день...\n",
              "1       Привет! Покупателю 310597 не возвращаются день...\n",
              "2       Добрый день, в профиле 528509 не отображается ...\n",
              "3       Привет! У клиента 804993 несколько вопросов ка...\n",
              "4       Привет! У клиента 746656 несколько вопросов ка...\n",
              "                              ...                        \n",
              "4995    Привет! Пользователь 854633 просит убрать увед...\n",
              "4996    Привет! Продавец 357850 просит убрать уведомле...\n",
              "4997    Привет! Была выплачена компенсация №286603, ну...\n",
              "4998    Привет! У клиента 785331 несколько вопросов ка...\n",
              "4999    Добрый день, в профиле 27577 не отображается 1...\n",
              "Name: message, Length: 5000, dtype: object"
            ]
          },
          "metadata": {},
          "execution_count": 943
        }
      ]
    },
    {
      "cell_type": "markdown",
      "source": [
        "# Text preprocessing"
      ],
      "metadata": {
        "id": "m3L9aqKYZwms"
      }
    },
    {
      "cell_type": "markdown",
      "source": [
        "Lowercase"
      ],
      "metadata": {
        "id": "x9AAZLhV-HkP"
      }
    },
    {
      "cell_type": "code",
      "source": [
        "messages = [message.lower() for message in messages]"
      ],
      "metadata": {
        "id": "fA-jg7YP-HSc"
      },
      "execution_count": null,
      "outputs": []
    },
    {
      "cell_type": "markdown",
      "source": [
        "Removing special symbol"
      ],
      "metadata": {
        "id": "XUUqxGhLcY0M"
      }
    },
    {
      "cell_type": "code",
      "source": [
        "def remove_custom_symbols(words_string:str) -> str:\n",
        "  return re.sub(r'[^A-Za-zА-Яа-я ]+', \"\", words_string)"
      ],
      "metadata": {
        "id": "2z5PnE6Qca03"
      },
      "execution_count": null,
      "outputs": []
    },
    {
      "cell_type": "code",
      "source": [
        "messages = [remove_custom_symbols(message) for message in messages]"
      ],
      "metadata": {
        "id": "mM0aQ7X5cRcI"
      },
      "execution_count": null,
      "outputs": []
    },
    {
      "cell_type": "markdown",
      "source": [
        "Stemming"
      ],
      "metadata": {
        "id": "e533n6sZZvYT"
      }
    },
    {
      "cell_type": "code",
      "source": [
        "def stem_words(words_string:str) -> str:\n",
        "  return \" \".join([stemmer.stem(word) for word in words_string.split(\" \")])"
      ],
      "metadata": {
        "id": "pyaJz2rMZ1xK"
      },
      "execution_count": null,
      "outputs": []
    },
    {
      "cell_type": "code",
      "source": [
        "messages = [stem_words(message) for message in messages]"
      ],
      "metadata": {
        "id": "yHuQsXDxbMBp"
      },
      "execution_count": null,
      "outputs": []
    },
    {
      "cell_type": "markdown",
      "source": [
        "Removing stopwords"
      ],
      "metadata": {
        "id": "EgN2oKLXbJKY"
      }
    },
    {
      "cell_type": "code",
      "source": [
        "def remove_stopwords(words_string:str) -> str:\n",
        "  return \" \".join([word for word in words_string.split(\" \") if word not in stopwords])"
      ],
      "metadata": {
        "id": "sxC1B1pMaXRb"
      },
      "execution_count": null,
      "outputs": []
    },
    {
      "cell_type": "code",
      "source": [
        "messages = [remove_stopwords(message) for message in messages]"
      ],
      "metadata": {
        "id": "HTFDMLIFZy_z"
      },
      "execution_count": null,
      "outputs": []
    },
    {
      "cell_type": "markdown",
      "source": [
        "Preprocessed strings"
      ],
      "metadata": {
        "id": "JQvOZI_yd9KX"
      }
    },
    {
      "cell_type": "code",
      "source": [
        "messages[:10]"
      ],
      "metadata": {
        "colab": {
          "base_uri": "https://localhost:8080/"
        },
        "id": "M1EvsGa1dErF",
        "outputId": "26baa219-a882-4048-fba3-6c27991289a6"
      },
      "execution_count": null,
      "outputs": [
        {
          "output_type": "execute_result",
          "data": {
            "text/plain": [
              "['покупател  возвраща деньг статус завис confirmed ',\n",
              " 'покупател  возвраща деньг статус завис confirmed ',\n",
              " 'добр ден профил  отобража  дне возврат подскаж эт включ',\n",
              " 'клиент  нескольк вопрос касаем доставк dbs rdbs api подсказа ответ ил подскажет ком можн направ подробн тред',\n",
              " 'клиент  нескольк вопрос касаем доставк dbs rdbs api подсказа ответ ил подскажет ком можн направ подробн тред',\n",
              " 'покупател  возвраща деньг статус завис refunding',\n",
              " 'заказ  политик возврат покупател отказа заказ деньг вернул биллинг статус заказ lost помог пожалуйст вернут деньг пользовател',\n",
              " 'заказ  политик возврат покупател отказа заказ деньг вернул биллинг статус заказ cancelled помог пожалуйст вернут деньг пользовател',\n",
              " 'клиент  нескольк вопрос касаем доставк dbs rdbs api подсказа ответ ил подскажет ком можн направ подробн тред',\n",
              " 'покупател  возвраща деньг статус завис confirmed ']"
            ]
          },
          "metadata": {},
          "execution_count": 951
        }
      ]
    },
    {
      "cell_type": "markdown",
      "source": [
        "# Getting topics"
      ],
      "metadata": {
        "id": "zJcgoMnslrJg"
      }
    },
    {
      "cell_type": "markdown",
      "source": [
        "TF IDF vectorization"
      ],
      "metadata": {
        "id": "oHt_eGoUqD0j"
      }
    },
    {
      "cell_type": "code",
      "source": [
        "tfidf = TfidfVectorizer()"
      ],
      "metadata": {
        "id": "fQKp0Tdlls40"
      },
      "execution_count": null,
      "outputs": []
    },
    {
      "cell_type": "code",
      "source": [
        "tfidf.fit(messages)\n",
        "transformed = tfidf.transform(messages)"
      ],
      "metadata": {
        "id": "qeKD507bl3u7"
      },
      "execution_count": null,
      "outputs": []
    },
    {
      "cell_type": "code",
      "source": [
        "tfidf.get_feature_names_out()\n",
        "\n",
        "words_df = pd.DataFrame(transformed[0].T.todense(), index=tfidf.get_feature_names_out(), columns=[\"TF-IDF\"])\n",
        "words_df = words_df.sort_values('TF-IDF', ascending=False)"
      ],
      "metadata": {
        "id": "3RDIhYPWl4i2"
      },
      "execution_count": null,
      "outputs": []
    },
    {
      "cell_type": "markdown",
      "source": [
        "Top words by importance"
      ],
      "metadata": {
        "id": "Lqz-vmoPmzR-"
      }
    },
    {
      "cell_type": "code",
      "source": [
        "words_df"
      ],
      "metadata": {
        "colab": {
          "base_uri": "https://localhost:8080/",
          "height": 686
        },
        "id": "ySVSDF4-mTfN",
        "outputId": "558cc725-fb55-49d3-ffae-8d23818a152d"
      },
      "execution_count": null,
      "outputs": [
        {
          "output_type": "execute_result",
          "data": {
            "text/plain": [
              "             TF-IDF\n",
              "confirmed  0.517349\n",
              "завис      0.488510\n",
              "возвраща   0.488510\n",
              "покупател  0.300135\n",
              "деньг      0.300135\n",
              "...             ...\n",
              "зависл     0.000000\n",
              "дс         0.000000\n",
              "доставк    0.000000\n",
              "добр       0.000000\n",
              "эт         0.000000\n",
              "\n",
              "[93 rows x 1 columns]"
            ],
            "text/html": [
              "\n",
              "  <div id=\"df-74fbe8b4-d27e-489a-abb3-76d54f3f4289\" class=\"colab-df-container\">\n",
              "    <div>\n",
              "<style scoped>\n",
              "    .dataframe tbody tr th:only-of-type {\n",
              "        vertical-align: middle;\n",
              "    }\n",
              "\n",
              "    .dataframe tbody tr th {\n",
              "        vertical-align: top;\n",
              "    }\n",
              "\n",
              "    .dataframe thead th {\n",
              "        text-align: right;\n",
              "    }\n",
              "</style>\n",
              "<table border=\"1\" class=\"dataframe\">\n",
              "  <thead>\n",
              "    <tr style=\"text-align: right;\">\n",
              "      <th></th>\n",
              "      <th>TF-IDF</th>\n",
              "    </tr>\n",
              "  </thead>\n",
              "  <tbody>\n",
              "    <tr>\n",
              "      <th>confirmed</th>\n",
              "      <td>0.517349</td>\n",
              "    </tr>\n",
              "    <tr>\n",
              "      <th>завис</th>\n",
              "      <td>0.488510</td>\n",
              "    </tr>\n",
              "    <tr>\n",
              "      <th>возвраща</th>\n",
              "      <td>0.488510</td>\n",
              "    </tr>\n",
              "    <tr>\n",
              "      <th>покупател</th>\n",
              "      <td>0.300135</td>\n",
              "    </tr>\n",
              "    <tr>\n",
              "      <th>деньг</th>\n",
              "      <td>0.300135</td>\n",
              "    </tr>\n",
              "    <tr>\n",
              "      <th>...</th>\n",
              "      <td>...</td>\n",
              "    </tr>\n",
              "    <tr>\n",
              "      <th>зависл</th>\n",
              "      <td>0.000000</td>\n",
              "    </tr>\n",
              "    <tr>\n",
              "      <th>дс</th>\n",
              "      <td>0.000000</td>\n",
              "    </tr>\n",
              "    <tr>\n",
              "      <th>доставк</th>\n",
              "      <td>0.000000</td>\n",
              "    </tr>\n",
              "    <tr>\n",
              "      <th>добр</th>\n",
              "      <td>0.000000</td>\n",
              "    </tr>\n",
              "    <tr>\n",
              "      <th>эт</th>\n",
              "      <td>0.000000</td>\n",
              "    </tr>\n",
              "  </tbody>\n",
              "</table>\n",
              "<p>93 rows × 1 columns</p>\n",
              "</div>\n",
              "    <div class=\"colab-df-buttons\">\n",
              "\n",
              "  <div class=\"colab-df-container\">\n",
              "    <button class=\"colab-df-convert\" onclick=\"convertToInteractive('df-74fbe8b4-d27e-489a-abb3-76d54f3f4289')\"\n",
              "            title=\"Convert this dataframe to an interactive table.\"\n",
              "            style=\"display:none;\">\n",
              "\n",
              "  <svg xmlns=\"http://www.w3.org/2000/svg\" height=\"24px\" viewBox=\"0 -960 960 960\">\n",
              "    <path d=\"M120-120v-720h720v720H120Zm60-500h600v-160H180v160Zm220 220h160v-160H400v160Zm0 220h160v-160H400v160ZM180-400h160v-160H180v160Zm440 0h160v-160H620v160ZM180-180h160v-160H180v160Zm440 0h160v-160H620v160Z\"/>\n",
              "  </svg>\n",
              "    </button>\n",
              "\n",
              "  <style>\n",
              "    .colab-df-container {\n",
              "      display:flex;\n",
              "      gap: 12px;\n",
              "    }\n",
              "\n",
              "    .colab-df-convert {\n",
              "      background-color: #E8F0FE;\n",
              "      border: none;\n",
              "      border-radius: 50%;\n",
              "      cursor: pointer;\n",
              "      display: none;\n",
              "      fill: #1967D2;\n",
              "      height: 32px;\n",
              "      padding: 0 0 0 0;\n",
              "      width: 32px;\n",
              "    }\n",
              "\n",
              "    .colab-df-convert:hover {\n",
              "      background-color: #E2EBFA;\n",
              "      box-shadow: 0px 1px 2px rgba(60, 64, 67, 0.3), 0px 1px 3px 1px rgba(60, 64, 67, 0.15);\n",
              "      fill: #174EA6;\n",
              "    }\n",
              "\n",
              "    .colab-df-buttons div {\n",
              "      margin-bottom: 4px;\n",
              "    }\n",
              "\n",
              "    [theme=dark] .colab-df-convert {\n",
              "      background-color: #3B4455;\n",
              "      fill: #D2E3FC;\n",
              "    }\n",
              "\n",
              "    [theme=dark] .colab-df-convert:hover {\n",
              "      background-color: #434B5C;\n",
              "      box-shadow: 0px 1px 3px 1px rgba(0, 0, 0, 0.15);\n",
              "      filter: drop-shadow(0px 1px 2px rgba(0, 0, 0, 0.3));\n",
              "      fill: #FFFFFF;\n",
              "    }\n",
              "  </style>\n",
              "\n",
              "    <script>\n",
              "      const buttonEl =\n",
              "        document.querySelector('#df-74fbe8b4-d27e-489a-abb3-76d54f3f4289 button.colab-df-convert');\n",
              "      buttonEl.style.display =\n",
              "        google.colab.kernel.accessAllowed ? 'block' : 'none';\n",
              "\n",
              "      async function convertToInteractive(key) {\n",
              "        const element = document.querySelector('#df-74fbe8b4-d27e-489a-abb3-76d54f3f4289');\n",
              "        const dataTable =\n",
              "          await google.colab.kernel.invokeFunction('convertToInteractive',\n",
              "                                                    [key], {});\n",
              "        if (!dataTable) return;\n",
              "\n",
              "        const docLinkHtml = 'Like what you see? Visit the ' +\n",
              "          '<a target=\"_blank\" href=https://colab.research.google.com/notebooks/data_table.ipynb>data table notebook</a>'\n",
              "          + ' to learn more about interactive tables.';\n",
              "        element.innerHTML = '';\n",
              "        dataTable['output_type'] = 'display_data';\n",
              "        await google.colab.output.renderOutput(dataTable, element);\n",
              "        const docLink = document.createElement('div');\n",
              "        docLink.innerHTML = docLinkHtml;\n",
              "        element.appendChild(docLink);\n",
              "      }\n",
              "    </script>\n",
              "  </div>\n",
              "\n",
              "\n",
              "<div id=\"df-0a20ffc7-1af4-4cb5-bd24-fb177cde5762\">\n",
              "  <button class=\"colab-df-quickchart\" onclick=\"quickchart('df-0a20ffc7-1af4-4cb5-bd24-fb177cde5762')\"\n",
              "            title=\"Suggest charts\"\n",
              "            style=\"display:none;\">\n",
              "\n",
              "<svg xmlns=\"http://www.w3.org/2000/svg\" height=\"24px\"viewBox=\"0 0 24 24\"\n",
              "     width=\"24px\">\n",
              "    <g>\n",
              "        <path d=\"M19 3H5c-1.1 0-2 .9-2 2v14c0 1.1.9 2 2 2h14c1.1 0 2-.9 2-2V5c0-1.1-.9-2-2-2zM9 17H7v-7h2v7zm4 0h-2V7h2v10zm4 0h-2v-4h2v4z\"/>\n",
              "    </g>\n",
              "</svg>\n",
              "  </button>\n",
              "\n",
              "<style>\n",
              "  .colab-df-quickchart {\n",
              "      --bg-color: #E8F0FE;\n",
              "      --fill-color: #1967D2;\n",
              "      --hover-bg-color: #E2EBFA;\n",
              "      --hover-fill-color: #174EA6;\n",
              "      --disabled-fill-color: #AAA;\n",
              "      --disabled-bg-color: #DDD;\n",
              "  }\n",
              "\n",
              "  [theme=dark] .colab-df-quickchart {\n",
              "      --bg-color: #3B4455;\n",
              "      --fill-color: #D2E3FC;\n",
              "      --hover-bg-color: #434B5C;\n",
              "      --hover-fill-color: #FFFFFF;\n",
              "      --disabled-bg-color: #3B4455;\n",
              "      --disabled-fill-color: #666;\n",
              "  }\n",
              "\n",
              "  .colab-df-quickchart {\n",
              "    background-color: var(--bg-color);\n",
              "    border: none;\n",
              "    border-radius: 50%;\n",
              "    cursor: pointer;\n",
              "    display: none;\n",
              "    fill: var(--fill-color);\n",
              "    height: 32px;\n",
              "    padding: 0;\n",
              "    width: 32px;\n",
              "  }\n",
              "\n",
              "  .colab-df-quickchart:hover {\n",
              "    background-color: var(--hover-bg-color);\n",
              "    box-shadow: 0 1px 2px rgba(60, 64, 67, 0.3), 0 1px 3px 1px rgba(60, 64, 67, 0.15);\n",
              "    fill: var(--button-hover-fill-color);\n",
              "  }\n",
              "\n",
              "  .colab-df-quickchart-complete:disabled,\n",
              "  .colab-df-quickchart-complete:disabled:hover {\n",
              "    background-color: var(--disabled-bg-color);\n",
              "    fill: var(--disabled-fill-color);\n",
              "    box-shadow: none;\n",
              "  }\n",
              "\n",
              "  .colab-df-spinner {\n",
              "    border: 2px solid var(--fill-color);\n",
              "    border-color: transparent;\n",
              "    border-bottom-color: var(--fill-color);\n",
              "    animation:\n",
              "      spin 1s steps(1) infinite;\n",
              "  }\n",
              "\n",
              "  @keyframes spin {\n",
              "    0% {\n",
              "      border-color: transparent;\n",
              "      border-bottom-color: var(--fill-color);\n",
              "      border-left-color: var(--fill-color);\n",
              "    }\n",
              "    20% {\n",
              "      border-color: transparent;\n",
              "      border-left-color: var(--fill-color);\n",
              "      border-top-color: var(--fill-color);\n",
              "    }\n",
              "    30% {\n",
              "      border-color: transparent;\n",
              "      border-left-color: var(--fill-color);\n",
              "      border-top-color: var(--fill-color);\n",
              "      border-right-color: var(--fill-color);\n",
              "    }\n",
              "    40% {\n",
              "      border-color: transparent;\n",
              "      border-right-color: var(--fill-color);\n",
              "      border-top-color: var(--fill-color);\n",
              "    }\n",
              "    60% {\n",
              "      border-color: transparent;\n",
              "      border-right-color: var(--fill-color);\n",
              "    }\n",
              "    80% {\n",
              "      border-color: transparent;\n",
              "      border-right-color: var(--fill-color);\n",
              "      border-bottom-color: var(--fill-color);\n",
              "    }\n",
              "    90% {\n",
              "      border-color: transparent;\n",
              "      border-bottom-color: var(--fill-color);\n",
              "    }\n",
              "  }\n",
              "</style>\n",
              "\n",
              "  <script>\n",
              "    async function quickchart(key) {\n",
              "      const quickchartButtonEl =\n",
              "        document.querySelector('#' + key + ' button');\n",
              "      quickchartButtonEl.disabled = true;  // To prevent multiple clicks.\n",
              "      quickchartButtonEl.classList.add('colab-df-spinner');\n",
              "      try {\n",
              "        const charts = await google.colab.kernel.invokeFunction(\n",
              "            'suggestCharts', [key], {});\n",
              "      } catch (error) {\n",
              "        console.error('Error during call to suggestCharts:', error);\n",
              "      }\n",
              "      quickchartButtonEl.classList.remove('colab-df-spinner');\n",
              "      quickchartButtonEl.classList.add('colab-df-quickchart-complete');\n",
              "    }\n",
              "    (() => {\n",
              "      let quickchartButtonEl =\n",
              "        document.querySelector('#df-0a20ffc7-1af4-4cb5-bd24-fb177cde5762 button');\n",
              "      quickchartButtonEl.style.display =\n",
              "        google.colab.kernel.accessAllowed ? 'block' : 'none';\n",
              "    })();\n",
              "  </script>\n",
              "</div>\n",
              "\n",
              "  <div id=\"id_f338bd86-e960-4499-807c-10c6f06546de\">\n",
              "    <style>\n",
              "      .colab-df-generate {\n",
              "        background-color: #E8F0FE;\n",
              "        border: none;\n",
              "        border-radius: 50%;\n",
              "        cursor: pointer;\n",
              "        display: none;\n",
              "        fill: #1967D2;\n",
              "        height: 32px;\n",
              "        padding: 0 0 0 0;\n",
              "        width: 32px;\n",
              "      }\n",
              "\n",
              "      .colab-df-generate:hover {\n",
              "        background-color: #E2EBFA;\n",
              "        box-shadow: 0px 1px 2px rgba(60, 64, 67, 0.3), 0px 1px 3px 1px rgba(60, 64, 67, 0.15);\n",
              "        fill: #174EA6;\n",
              "      }\n",
              "\n",
              "      [theme=dark] .colab-df-generate {\n",
              "        background-color: #3B4455;\n",
              "        fill: #D2E3FC;\n",
              "      }\n",
              "\n",
              "      [theme=dark] .colab-df-generate:hover {\n",
              "        background-color: #434B5C;\n",
              "        box-shadow: 0px 1px 3px 1px rgba(0, 0, 0, 0.15);\n",
              "        filter: drop-shadow(0px 1px 2px rgba(0, 0, 0, 0.3));\n",
              "        fill: #FFFFFF;\n",
              "      }\n",
              "    </style>\n",
              "    <button class=\"colab-df-generate\" onclick=\"generateWithVariable('words_df')\"\n",
              "            title=\"Generate code using this dataframe.\"\n",
              "            style=\"display:none;\">\n",
              "\n",
              "  <svg xmlns=\"http://www.w3.org/2000/svg\" height=\"24px\"viewBox=\"0 0 24 24\"\n",
              "       width=\"24px\">\n",
              "    <path d=\"M7,19H8.4L18.45,9,17,7.55,7,17.6ZM5,21V16.75L18.45,3.32a2,2,0,0,1,2.83,0l1.4,1.43a1.91,1.91,0,0,1,.58,1.4,1.91,1.91,0,0,1-.58,1.4L9.25,21ZM18.45,9,17,7.55Zm-12,3A5.31,5.31,0,0,0,4.9,8.1,5.31,5.31,0,0,0,1,6.5,5.31,5.31,0,0,0,4.9,4.9,5.31,5.31,0,0,0,6.5,1,5.31,5.31,0,0,0,8.1,4.9,5.31,5.31,0,0,0,12,6.5,5.46,5.46,0,0,0,6.5,12Z\"/>\n",
              "  </svg>\n",
              "    </button>\n",
              "    <script>\n",
              "      (() => {\n",
              "      const buttonEl =\n",
              "        document.querySelector('#id_f338bd86-e960-4499-807c-10c6f06546de button.colab-df-generate');\n",
              "      buttonEl.style.display =\n",
              "        google.colab.kernel.accessAllowed ? 'block' : 'none';\n",
              "\n",
              "      buttonEl.onclick = () => {\n",
              "        google.colab.notebook.generateWithVariable('words_df');\n",
              "      }\n",
              "      })();\n",
              "    </script>\n",
              "  </div>\n",
              "\n",
              "    </div>\n",
              "  </div>\n"
            ],
            "application/vnd.google.colaboratory.intrinsic+json": {
              "type": "dataframe",
              "variable_name": "words_df",
              "summary": "{\n  \"name\": \"words_df\",\n  \"rows\": 93,\n  \"fields\": [\n    {\n      \"column\": \"TF-IDF\",\n      \"properties\": {\n        \"dtype\": \"number\",\n        \"std\": 0.10106436635832354,\n        \"min\": 0.0,\n        \"max\": 0.5173493912335503,\n        \"num_unique_values\": 5,\n        \"samples\": [\n          0.48850962328785125,\n          0.0,\n          0.30013529089693025\n        ],\n        \"semantic_type\": \"\",\n        \"description\": \"\"\n      }\n    }\n  ]\n}"
            }
          },
          "metadata": {},
          "execution_count": 955
        }
      ]
    },
    {
      "cell_type": "markdown",
      "source": [
        "Clustering"
      ],
      "metadata": {
        "id": "R44yV6O1pwcY"
      }
    },
    {
      "cell_type": "code",
      "source": [
        "#db = DBSCAN(eps=0.3, min_samples=min_samples).fit(transformed)\n",
        "\n",
        "db = KMeans(n_clusters=n_clusters).fit(transformed)\n",
        "\n",
        "db = SpectralClustering(n_clusters=n_clusters).fit(transformed)"
      ],
      "metadata": {
        "colab": {
          "base_uri": "https://localhost:8080/"
        },
        "id": "U8ss3zJPl8Ly",
        "outputId": "08724db6-571a-4138-abe9-74417e6b3bd3"
      },
      "execution_count": null,
      "outputs": [
        {
          "output_type": "stream",
          "name": "stderr",
          "text": [
            "/usr/local/lib/python3.10/dist-packages/sklearn/cluster/_kmeans.py:870: FutureWarning: The default value of `n_init` will change from 10 to 'auto' in 1.4. Set the value of `n_init` explicitly to suppress the warning\n",
            "  warnings.warn(\n"
          ]
        }
      ]
    },
    {
      "cell_type": "code",
      "source": [
        "labels = db.labels_"
      ],
      "metadata": {
        "id": "EDtVK-pSqwRD"
      },
      "execution_count": null,
      "outputs": []
    },
    {
      "cell_type": "code",
      "source": [
        "labels"
      ],
      "metadata": {
        "colab": {
          "base_uri": "https://localhost:8080/"
        },
        "id": "QnY9slw_u3D-",
        "outputId": "13256852-d5f1-42b3-bf85-f24ec739a916"
      },
      "execution_count": null,
      "outputs": [
        {
          "output_type": "execute_result",
          "data": {
            "text/plain": [
              "array([5, 5, 1, ..., 2, 3, 1], dtype=int32)"
            ]
          },
          "metadata": {},
          "execution_count": 958
        }
      ]
    },
    {
      "cell_type": "code",
      "source": [
        "n_clusters_ = len(set(labels)) - (1 if -1 in labels else 0)\n",
        "n_noise_ = list(labels).count(-1)\n",
        "\n",
        "print(\"Estimated number of clusters: %d\" % n_clusters_)\n",
        "print(\"Estimated number of noise points: %d\" % n_noise_)"
      ],
      "metadata": {
        "colab": {
          "base_uri": "https://localhost:8080/"
        },
        "id": "8uAIFY_Aq3v3",
        "outputId": "48b6cf63-ba55-4c2c-8eb2-49078a3fab9b"
      },
      "execution_count": null,
      "outputs": [
        {
          "output_type": "stream",
          "name": "stdout",
          "text": [
            "Estimated number of clusters: 6\n",
            "Estimated number of noise points: 0\n"
          ]
        }
      ]
    },
    {
      "cell_type": "code",
      "source": [
        "label_series = pd.Series(labels)\n",
        "freq_table = label_series.value_counts()"
      ],
      "metadata": {
        "id": "-gYbSYEf05En"
      },
      "execution_count": null,
      "outputs": []
    },
    {
      "cell_type": "code",
      "source": [
        "freq_table"
      ],
      "metadata": {
        "colab": {
          "base_uri": "https://localhost:8080/"
        },
        "id": "EJB_ggvz1zVU",
        "outputId": "30995e1b-b51c-4b65-818d-2951227534a7"
      },
      "execution_count": null,
      "outputs": [
        {
          "output_type": "execute_result",
          "data": {
            "text/plain": [
              "0    1846\n",
              "2    1375\n",
              "5     686\n",
              "4     381\n",
              "1     365\n",
              "3     347\n",
              "Name: count, dtype: int64"
            ]
          },
          "metadata": {},
          "execution_count": 961
        }
      ]
    },
    {
      "cell_type": "code",
      "source": [
        "df[\"label\"] = db.labels_"
      ],
      "metadata": {
        "id": "ts0WU2DXuowH"
      },
      "execution_count": null,
      "outputs": []
    },
    {
      "cell_type": "code",
      "source": [
        "df.head()"
      ],
      "metadata": {
        "colab": {
          "base_uri": "https://localhost:8080/",
          "height": 574
        },
        "id": "-Fgh9S3ivLZ3",
        "outputId": "ba32f0ed-2a22-4514-b2c9-6b92a16fda8f"
      },
      "execution_count": null,
      "outputs": [
        {
          "output_type": "execute_result",
          "data": {
            "text/plain": [
              "       id                                            message  user_id  \\\n",
              "0  146090  Привет! Покупателю 473905 не возвращаются день...   261636   \n",
              "1  146099  Привет! Покупателю 310597 не возвращаются день...   205592   \n",
              "2  146104  Добрый день, в профиле 528509 не отображается ...   178096   \n",
              "3  146111  Привет! У клиента 804993 несколько вопросов ка...   255493   \n",
              "4  146118  Привет! У клиента 746656 несколько вопросов ка...   660691   \n",
              "\n",
              "   channel_id               create_at               update_at  \\\n",
              "0      897391 2023-08-29 22:03:17.662 2023-08-29 22:03:17.662   \n",
              "1      347308 2023-08-29 23:52:18.227 2023-08-29 23:52:18.227   \n",
              "2      250509 2023-08-30 01:00:56.713 2023-08-30 01:00:56.713   \n",
              "3       69518 2023-08-30 02:29:30.042 2023-08-30 02:29:30.042   \n",
              "4       52200 2023-08-30 04:15:40.920 2023-08-30 04:15:40.920   \n",
              "\n",
              "                    root_id  edit_at  delete_at  is_pinned original_id  label  \n",
              "0                      None        0          0      False                  5  \n",
              "1                      None        0          0      False                  5  \n",
              "2                      None        0          0      False                  1  \n",
              "3                      None        0          0      False                  3  \n",
              "4  dsyhsescphovx9o0jktmy0zt        0          0      False                  3  "
            ],
            "text/html": [
              "\n",
              "  <div id=\"df-078037d0-89c5-4e76-9eb8-3c6b78cda12f\" class=\"colab-df-container\">\n",
              "    <div>\n",
              "<style scoped>\n",
              "    .dataframe tbody tr th:only-of-type {\n",
              "        vertical-align: middle;\n",
              "    }\n",
              "\n",
              "    .dataframe tbody tr th {\n",
              "        vertical-align: top;\n",
              "    }\n",
              "\n",
              "    .dataframe thead th {\n",
              "        text-align: right;\n",
              "    }\n",
              "</style>\n",
              "<table border=\"1\" class=\"dataframe\">\n",
              "  <thead>\n",
              "    <tr style=\"text-align: right;\">\n",
              "      <th></th>\n",
              "      <th>id</th>\n",
              "      <th>message</th>\n",
              "      <th>user_id</th>\n",
              "      <th>channel_id</th>\n",
              "      <th>create_at</th>\n",
              "      <th>update_at</th>\n",
              "      <th>root_id</th>\n",
              "      <th>edit_at</th>\n",
              "      <th>delete_at</th>\n",
              "      <th>is_pinned</th>\n",
              "      <th>original_id</th>\n",
              "      <th>label</th>\n",
              "    </tr>\n",
              "  </thead>\n",
              "  <tbody>\n",
              "    <tr>\n",
              "      <th>0</th>\n",
              "      <td>146090</td>\n",
              "      <td>Привет! Покупателю 473905 не возвращаются день...</td>\n",
              "      <td>261636</td>\n",
              "      <td>897391</td>\n",
              "      <td>2023-08-29 22:03:17.662</td>\n",
              "      <td>2023-08-29 22:03:17.662</td>\n",
              "      <td>None</td>\n",
              "      <td>0</td>\n",
              "      <td>0</td>\n",
              "      <td>False</td>\n",
              "      <td></td>\n",
              "      <td>5</td>\n",
              "    </tr>\n",
              "    <tr>\n",
              "      <th>1</th>\n",
              "      <td>146099</td>\n",
              "      <td>Привет! Покупателю 310597 не возвращаются день...</td>\n",
              "      <td>205592</td>\n",
              "      <td>347308</td>\n",
              "      <td>2023-08-29 23:52:18.227</td>\n",
              "      <td>2023-08-29 23:52:18.227</td>\n",
              "      <td>None</td>\n",
              "      <td>0</td>\n",
              "      <td>0</td>\n",
              "      <td>False</td>\n",
              "      <td></td>\n",
              "      <td>5</td>\n",
              "    </tr>\n",
              "    <tr>\n",
              "      <th>2</th>\n",
              "      <td>146104</td>\n",
              "      <td>Добрый день, в профиле 528509 не отображается ...</td>\n",
              "      <td>178096</td>\n",
              "      <td>250509</td>\n",
              "      <td>2023-08-30 01:00:56.713</td>\n",
              "      <td>2023-08-30 01:00:56.713</td>\n",
              "      <td>None</td>\n",
              "      <td>0</td>\n",
              "      <td>0</td>\n",
              "      <td>False</td>\n",
              "      <td></td>\n",
              "      <td>1</td>\n",
              "    </tr>\n",
              "    <tr>\n",
              "      <th>3</th>\n",
              "      <td>146111</td>\n",
              "      <td>Привет! У клиента 804993 несколько вопросов ка...</td>\n",
              "      <td>255493</td>\n",
              "      <td>69518</td>\n",
              "      <td>2023-08-30 02:29:30.042</td>\n",
              "      <td>2023-08-30 02:29:30.042</td>\n",
              "      <td>None</td>\n",
              "      <td>0</td>\n",
              "      <td>0</td>\n",
              "      <td>False</td>\n",
              "      <td></td>\n",
              "      <td>3</td>\n",
              "    </tr>\n",
              "    <tr>\n",
              "      <th>4</th>\n",
              "      <td>146118</td>\n",
              "      <td>Привет! У клиента 746656 несколько вопросов ка...</td>\n",
              "      <td>660691</td>\n",
              "      <td>52200</td>\n",
              "      <td>2023-08-30 04:15:40.920</td>\n",
              "      <td>2023-08-30 04:15:40.920</td>\n",
              "      <td>dsyhsescphovx9o0jktmy0zt</td>\n",
              "      <td>0</td>\n",
              "      <td>0</td>\n",
              "      <td>False</td>\n",
              "      <td></td>\n",
              "      <td>3</td>\n",
              "    </tr>\n",
              "  </tbody>\n",
              "</table>\n",
              "</div>\n",
              "    <div class=\"colab-df-buttons\">\n",
              "\n",
              "  <div class=\"colab-df-container\">\n",
              "    <button class=\"colab-df-convert\" onclick=\"convertToInteractive('df-078037d0-89c5-4e76-9eb8-3c6b78cda12f')\"\n",
              "            title=\"Convert this dataframe to an interactive table.\"\n",
              "            style=\"display:none;\">\n",
              "\n",
              "  <svg xmlns=\"http://www.w3.org/2000/svg\" height=\"24px\" viewBox=\"0 -960 960 960\">\n",
              "    <path d=\"M120-120v-720h720v720H120Zm60-500h600v-160H180v160Zm220 220h160v-160H400v160Zm0 220h160v-160H400v160ZM180-400h160v-160H180v160Zm440 0h160v-160H620v160ZM180-180h160v-160H180v160Zm440 0h160v-160H620v160Z\"/>\n",
              "  </svg>\n",
              "    </button>\n",
              "\n",
              "  <style>\n",
              "    .colab-df-container {\n",
              "      display:flex;\n",
              "      gap: 12px;\n",
              "    }\n",
              "\n",
              "    .colab-df-convert {\n",
              "      background-color: #E8F0FE;\n",
              "      border: none;\n",
              "      border-radius: 50%;\n",
              "      cursor: pointer;\n",
              "      display: none;\n",
              "      fill: #1967D2;\n",
              "      height: 32px;\n",
              "      padding: 0 0 0 0;\n",
              "      width: 32px;\n",
              "    }\n",
              "\n",
              "    .colab-df-convert:hover {\n",
              "      background-color: #E2EBFA;\n",
              "      box-shadow: 0px 1px 2px rgba(60, 64, 67, 0.3), 0px 1px 3px 1px rgba(60, 64, 67, 0.15);\n",
              "      fill: #174EA6;\n",
              "    }\n",
              "\n",
              "    .colab-df-buttons div {\n",
              "      margin-bottom: 4px;\n",
              "    }\n",
              "\n",
              "    [theme=dark] .colab-df-convert {\n",
              "      background-color: #3B4455;\n",
              "      fill: #D2E3FC;\n",
              "    }\n",
              "\n",
              "    [theme=dark] .colab-df-convert:hover {\n",
              "      background-color: #434B5C;\n",
              "      box-shadow: 0px 1px 3px 1px rgba(0, 0, 0, 0.15);\n",
              "      filter: drop-shadow(0px 1px 2px rgba(0, 0, 0, 0.3));\n",
              "      fill: #FFFFFF;\n",
              "    }\n",
              "  </style>\n",
              "\n",
              "    <script>\n",
              "      const buttonEl =\n",
              "        document.querySelector('#df-078037d0-89c5-4e76-9eb8-3c6b78cda12f button.colab-df-convert');\n",
              "      buttonEl.style.display =\n",
              "        google.colab.kernel.accessAllowed ? 'block' : 'none';\n",
              "\n",
              "      async function convertToInteractive(key) {\n",
              "        const element = document.querySelector('#df-078037d0-89c5-4e76-9eb8-3c6b78cda12f');\n",
              "        const dataTable =\n",
              "          await google.colab.kernel.invokeFunction('convertToInteractive',\n",
              "                                                    [key], {});\n",
              "        if (!dataTable) return;\n",
              "\n",
              "        const docLinkHtml = 'Like what you see? Visit the ' +\n",
              "          '<a target=\"_blank\" href=https://colab.research.google.com/notebooks/data_table.ipynb>data table notebook</a>'\n",
              "          + ' to learn more about interactive tables.';\n",
              "        element.innerHTML = '';\n",
              "        dataTable['output_type'] = 'display_data';\n",
              "        await google.colab.output.renderOutput(dataTable, element);\n",
              "        const docLink = document.createElement('div');\n",
              "        docLink.innerHTML = docLinkHtml;\n",
              "        element.appendChild(docLink);\n",
              "      }\n",
              "    </script>\n",
              "  </div>\n",
              "\n",
              "\n",
              "<div id=\"df-5eb2ef53-4829-4d18-bc81-98828d4047b4\">\n",
              "  <button class=\"colab-df-quickchart\" onclick=\"quickchart('df-5eb2ef53-4829-4d18-bc81-98828d4047b4')\"\n",
              "            title=\"Suggest charts\"\n",
              "            style=\"display:none;\">\n",
              "\n",
              "<svg xmlns=\"http://www.w3.org/2000/svg\" height=\"24px\"viewBox=\"0 0 24 24\"\n",
              "     width=\"24px\">\n",
              "    <g>\n",
              "        <path d=\"M19 3H5c-1.1 0-2 .9-2 2v14c0 1.1.9 2 2 2h14c1.1 0 2-.9 2-2V5c0-1.1-.9-2-2-2zM9 17H7v-7h2v7zm4 0h-2V7h2v10zm4 0h-2v-4h2v4z\"/>\n",
              "    </g>\n",
              "</svg>\n",
              "  </button>\n",
              "\n",
              "<style>\n",
              "  .colab-df-quickchart {\n",
              "      --bg-color: #E8F0FE;\n",
              "      --fill-color: #1967D2;\n",
              "      --hover-bg-color: #E2EBFA;\n",
              "      --hover-fill-color: #174EA6;\n",
              "      --disabled-fill-color: #AAA;\n",
              "      --disabled-bg-color: #DDD;\n",
              "  }\n",
              "\n",
              "  [theme=dark] .colab-df-quickchart {\n",
              "      --bg-color: #3B4455;\n",
              "      --fill-color: #D2E3FC;\n",
              "      --hover-bg-color: #434B5C;\n",
              "      --hover-fill-color: #FFFFFF;\n",
              "      --disabled-bg-color: #3B4455;\n",
              "      --disabled-fill-color: #666;\n",
              "  }\n",
              "\n",
              "  .colab-df-quickchart {\n",
              "    background-color: var(--bg-color);\n",
              "    border: none;\n",
              "    border-radius: 50%;\n",
              "    cursor: pointer;\n",
              "    display: none;\n",
              "    fill: var(--fill-color);\n",
              "    height: 32px;\n",
              "    padding: 0;\n",
              "    width: 32px;\n",
              "  }\n",
              "\n",
              "  .colab-df-quickchart:hover {\n",
              "    background-color: var(--hover-bg-color);\n",
              "    box-shadow: 0 1px 2px rgba(60, 64, 67, 0.3), 0 1px 3px 1px rgba(60, 64, 67, 0.15);\n",
              "    fill: var(--button-hover-fill-color);\n",
              "  }\n",
              "\n",
              "  .colab-df-quickchart-complete:disabled,\n",
              "  .colab-df-quickchart-complete:disabled:hover {\n",
              "    background-color: var(--disabled-bg-color);\n",
              "    fill: var(--disabled-fill-color);\n",
              "    box-shadow: none;\n",
              "  }\n",
              "\n",
              "  .colab-df-spinner {\n",
              "    border: 2px solid var(--fill-color);\n",
              "    border-color: transparent;\n",
              "    border-bottom-color: var(--fill-color);\n",
              "    animation:\n",
              "      spin 1s steps(1) infinite;\n",
              "  }\n",
              "\n",
              "  @keyframes spin {\n",
              "    0% {\n",
              "      border-color: transparent;\n",
              "      border-bottom-color: var(--fill-color);\n",
              "      border-left-color: var(--fill-color);\n",
              "    }\n",
              "    20% {\n",
              "      border-color: transparent;\n",
              "      border-left-color: var(--fill-color);\n",
              "      border-top-color: var(--fill-color);\n",
              "    }\n",
              "    30% {\n",
              "      border-color: transparent;\n",
              "      border-left-color: var(--fill-color);\n",
              "      border-top-color: var(--fill-color);\n",
              "      border-right-color: var(--fill-color);\n",
              "    }\n",
              "    40% {\n",
              "      border-color: transparent;\n",
              "      border-right-color: var(--fill-color);\n",
              "      border-top-color: var(--fill-color);\n",
              "    }\n",
              "    60% {\n",
              "      border-color: transparent;\n",
              "      border-right-color: var(--fill-color);\n",
              "    }\n",
              "    80% {\n",
              "      border-color: transparent;\n",
              "      border-right-color: var(--fill-color);\n",
              "      border-bottom-color: var(--fill-color);\n",
              "    }\n",
              "    90% {\n",
              "      border-color: transparent;\n",
              "      border-bottom-color: var(--fill-color);\n",
              "    }\n",
              "  }\n",
              "</style>\n",
              "\n",
              "  <script>\n",
              "    async function quickchart(key) {\n",
              "      const quickchartButtonEl =\n",
              "        document.querySelector('#' + key + ' button');\n",
              "      quickchartButtonEl.disabled = true;  // To prevent multiple clicks.\n",
              "      quickchartButtonEl.classList.add('colab-df-spinner');\n",
              "      try {\n",
              "        const charts = await google.colab.kernel.invokeFunction(\n",
              "            'suggestCharts', [key], {});\n",
              "      } catch (error) {\n",
              "        console.error('Error during call to suggestCharts:', error);\n",
              "      }\n",
              "      quickchartButtonEl.classList.remove('colab-df-spinner');\n",
              "      quickchartButtonEl.classList.add('colab-df-quickchart-complete');\n",
              "    }\n",
              "    (() => {\n",
              "      let quickchartButtonEl =\n",
              "        document.querySelector('#df-5eb2ef53-4829-4d18-bc81-98828d4047b4 button');\n",
              "      quickchartButtonEl.style.display =\n",
              "        google.colab.kernel.accessAllowed ? 'block' : 'none';\n",
              "    })();\n",
              "  </script>\n",
              "</div>\n",
              "\n",
              "    </div>\n",
              "  </div>\n"
            ],
            "application/vnd.google.colaboratory.intrinsic+json": {
              "type": "dataframe",
              "variable_name": "df",
              "summary": "{\n  \"name\": \"df\",\n  \"rows\": 5000,\n  \"fields\": [\n    {\n      \"column\": \"id\",\n      \"properties\": {\n        \"dtype\": \"number\",\n        \"std\": 7928,\n        \"min\": 146090,\n        \"max\": 173611,\n        \"num_unique_values\": 5000,\n        \"samples\": [\n          154541,\n          160412,\n          160783\n        ],\n        \"semantic_type\": \"\",\n        \"description\": \"\"\n      }\n    },\n    {\n      \"column\": \"message\",\n      \"properties\": {\n        \"dtype\": \"string\",\n        \"num_unique_values\": 4272,\n        \"samples\": [\n          \"\\u041f\\u0440\\u0438\\u0432\\u0435\\u0442! \\u041f\\u043e \\u0437\\u0430\\u043a\\u0430\\u0437\\u0443 \\u043a\\u0440\\u043e\\u0441\\u0441-\\u0434\\u043e\\u0441\\u0442\\u0430\\u0432\\u043a\\u0438 \\u2116360557, \\u043d\\u0435\\u0442 \\u0432\\u043e\\u0437\\u0432\\u0440\\u0430\\u0442\\u043d\\u043e\\u0433\\u043e \\u0442\\u0440\\u0435\\u043a-\\u043d\\u043e\\u043c\\u0435\\u0440\\u0430. EXMAIL \\u0441\\u043e\\u043e\\u0431\\u0449\\u0438\\u043b\\u0438, \\u0447\\u0442\\u043e \\u0443\\u0436\\u0435 \\u043f\\u0435\\u0440\\u0435\\u0434\\u0430\\u043b\\u0438 \\u0437\\u0430\\u043a\\u0430\\u0437 \\u0432 \\u0421\\u0414 \\u043f\\u0440\\u043e\\u0434\\u0430\\u0432\\u0446\\u0430 \\u0434\\u043b\\u044f \\u0434\\u0430\\u043b\\u044c\\u043d\\u0435\\u0439\\u0448\\u0435\\u0433\\u043e \\u0432\\u043e\\u0437\\u0432\\u0440\\u0430\\u0442\\u0430. \\u041f\\u043e\\u043c\\u043e\\u0433\\u0438\\u0442\\u0435, \\u043f\\u043e\\u0436\\u0430\\u043b\\u0443\\u0439\\u0441\\u0442\\u0430, \\u0440\\u0430\\u0437\\u043e\\u0431\\u0440\\u0430\\u0442\\u044c\\u0441\\u044f \\u0438 \\u0432\\u0435\\u0440\\u043d\\u0443\\u0442\\u044c \\u0437\\u0430\\u043a\\u0430\\u0437 \\u043f\\u0440\\u043e\\u0434\\u0430\\u0432\\u0446\\u0443.\",\n          \"\\u041f\\u043e\\u043a\\u0443\\u043f\\u0430\\u0442\\u0435\\u043b\\u044c 795487 \\u043e\\u0442\\u043a\\u0430\\u0437\\u0430\\u043b\\u0441\\u044f \\u043e\\u0442 \\u0442\\u043e\\u0432\\u0430\\u0440\\u0430, \\u043d\\u043e \\u0434\\u0435\\u043d\\u044c\\u0433\\u0438 \\u043d\\u0435 \\u0432\\u0435\\u0440\\u043d\\u0443\\u043b\\u0438\\u0441\\u044c. \\u0412 \\u0431\\u0438\\u043b\\u043b\\u0438\\u043d\\u0433\\u0435 \\u0441\\u0442\\u0430\\u0442\\u0443\\u0441 \\u0437\\u0430\\u043a\\u0430\\u0437\\u0430 \\u043d\\u0435 lost. \\u041f\\u043e\\u043c\\u043e\\u0433\\u0438\\u0442\\u0435, \\u043f\\u043e\\u0436\\u0430\\u043b\\u0443\\u0439\\u0441\\u0442\\u0430, \\u0432\\u0435\\u0440\\u043d\\u0443\\u0442\\u044c \\u0434\\u0435\\u043d\\u044c\\u0433\\u0438 \\u043f\\u043e\\u043b\\u044c\\u0437\\u043e\\u0432\\u0430\\u0442\\u0435\\u043b\\u044e.\",\n          \"\\u041f\\u043e\\u043a\\u0443\\u043f\\u0430\\u0442\\u0435\\u043b\\u044c 835884 \\u043e\\u0442\\u043a\\u0430\\u0437\\u0430\\u043b\\u0441\\u044f \\u043e\\u0442 \\u0442\\u043e\\u0432\\u0430\\u0440\\u0430, \\u043d\\u043e \\u0434\\u0435\\u043d\\u044c\\u0433\\u0438 \\u043d\\u0435 \\u0432\\u0435\\u0440\\u043d\\u0443\\u043b\\u0438\\u0441\\u044c. \\u0412 \\u0431\\u0438\\u043b\\u043b\\u0438\\u043d\\u0433\\u0435 \\u0441\\u0442\\u0430\\u0442\\u0443\\u0441 \\u0437\\u0430\\u043a\\u0430\\u0437\\u0430 \\u043d\\u0435 submitted. \\u041f\\u043e\\u043c\\u043e\\u0433\\u0438\\u0442\\u0435, \\u043f\\u043e\\u0436\\u0430\\u043b\\u0443\\u0439\\u0441\\u0442\\u0430, \\u0432\\u0435\\u0440\\u043d\\u0443\\u0442\\u044c \\u0434\\u0435\\u043d\\u044c\\u0433\\u0438 \\u043f\\u043e\\u043b\\u044c\\u0437\\u043e\\u0432\\u0430\\u0442\\u0435\\u043b\\u044e.\"\n        ],\n        \"semantic_type\": \"\",\n        \"description\": \"\"\n      }\n    },\n    {\n      \"column\": \"user_id\",\n      \"properties\": {\n        \"dtype\": \"number\",\n        \"std\": 288169,\n        \"min\": 202,\n        \"max\": 999952,\n        \"num_unique_values\": 4991,\n        \"samples\": [\n          776425,\n          931651,\n          673439\n        ],\n        \"semantic_type\": \"\",\n        \"description\": \"\"\n      }\n    },\n    {\n      \"column\": \"channel_id\",\n      \"properties\": {\n        \"dtype\": \"number\",\n        \"std\": 290697,\n        \"min\": 107,\n        \"max\": 999960,\n        \"num_unique_values\": 4989,\n        \"samples\": [\n          46926,\n          585190,\n          847144\n        ],\n        \"semantic_type\": \"\",\n        \"description\": \"\"\n      }\n    },\n    {\n      \"column\": \"create_at\",\n      \"properties\": {\n        \"dtype\": \"date\",\n        \"min\": \"2023-08-29 22:03:17.662000\",\n        \"max\": \"2024-03-19 04:45:35.859000\",\n        \"num_unique_values\": 5000,\n        \"samples\": [\n          \"2023-10-29 11:34:39.931000\",\n          \"2023-12-13 08:31:38.940000\",\n          \"2023-12-16 03:56:47.108000\"\n        ],\n        \"semantic_type\": \"\",\n        \"description\": \"\"\n      }\n    },\n    {\n      \"column\": \"update_at\",\n      \"properties\": {\n        \"dtype\": \"date\",\n        \"min\": \"2023-08-29 22:03:17.662000\",\n        \"max\": \"2024-03-19 04:45:35.859000\",\n        \"num_unique_values\": 5000,\n        \"samples\": [\n          \"2023-10-29 11:34:39.931000\",\n          \"2023-12-13 08:31:38.940000\",\n          \"2023-12-16 03:56:47.108000\"\n        ],\n        \"semantic_type\": \"\",\n        \"description\": \"\"\n      }\n    },\n    {\n      \"column\": \"root_id\",\n      \"properties\": {\n        \"dtype\": \"category\",\n        \"num_unique_values\": 2476,\n        \"samples\": [\n          \"6ttx7dfygaqx7t88jgk7exlu\",\n          \"bdhlvejytwxf50bojv7pcx69\",\n          \"67auleojjipjblxdpedv8cvh\"\n        ],\n        \"semantic_type\": \"\",\n        \"description\": \"\"\n      }\n    },\n    {\n      \"column\": \"edit_at\",\n      \"properties\": {\n        \"dtype\": \"number\",\n        \"std\": 0,\n        \"min\": 0,\n        \"max\": 0,\n        \"num_unique_values\": 1,\n        \"samples\": [\n          0\n        ],\n        \"semantic_type\": \"\",\n        \"description\": \"\"\n      }\n    },\n    {\n      \"column\": \"delete_at\",\n      \"properties\": {\n        \"dtype\": \"number\",\n        \"std\": 0,\n        \"min\": 0,\n        \"max\": 0,\n        \"num_unique_values\": 1,\n        \"samples\": [\n          0\n        ],\n        \"semantic_type\": \"\",\n        \"description\": \"\"\n      }\n    },\n    {\n      \"column\": \"is_pinned\",\n      \"properties\": {\n        \"dtype\": \"boolean\",\n        \"num_unique_values\": 1,\n        \"samples\": [\n          false\n        ],\n        \"semantic_type\": \"\",\n        \"description\": \"\"\n      }\n    },\n    {\n      \"column\": \"original_id\",\n      \"properties\": {\n        \"dtype\": \"object\",\n        \"num_unique_values\": 1,\n        \"samples\": [\n          \"\"\n        ],\n        \"semantic_type\": \"\",\n        \"description\": \"\"\n      }\n    },\n    {\n      \"column\": \"label\",\n      \"properties\": {\n        \"dtype\": \"int32\",\n        \"num_unique_values\": 6,\n        \"samples\": [\n          5\n        ],\n        \"semantic_type\": \"\",\n        \"description\": \"\"\n      }\n    }\n  ]\n}"
            }
          },
          "metadata": {},
          "execution_count": 963
        }
      ]
    },
    {
      "cell_type": "code",
      "source": [
        "import time"
      ],
      "metadata": {
        "id": "jAYusYWQ6jWO"
      },
      "execution_count": null,
      "outputs": []
    },
    {
      "cell_type": "code",
      "source": [
        "time = int(time.time())"
      ],
      "metadata": {
        "id": "JpSiXBV66lHw"
      },
      "execution_count": null,
      "outputs": []
    },
    {
      "cell_type": "code",
      "source": [
        "df.to_csv(f\"drive/MyDrive/dataset_hack_with_labels_min_{time}.csv\")"
      ],
      "metadata": {
        "id": "Hia_FJb3we_m"
      },
      "execution_count": null,
      "outputs": []
    }
  ]
}